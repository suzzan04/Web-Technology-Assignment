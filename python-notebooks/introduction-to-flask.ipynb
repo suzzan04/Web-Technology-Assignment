{
 "cells": [
  {
   "cell_type": "markdown",
   "metadata": {},
   "source": [
    "# Flask\n",
    "- Flask is a lightweight and flexible web framework for Python. \n",
    "-  It's designed to make getting started with web development quick and easy, while also providing the tools necessary for building robust and scalable web applications.\n",
    "## Key features of Flask\n",
    "### Minimalistic\n",
    "Flask is intentionally kept small and simple. It doesn't come bundled with a lot of features out of the box, but instead provides a solid foundation for building web applications.\n",
    "\n",
    "### Routing\n",
    " Routing in Flask is achieved using Python decorators. You can define routes for different URLs and map them to specific Python functions, known as view functions, which handle the requests and return responses.\n",
    "\n",
    "### Template Engine\n",
    " Flask uses Jinja2 as its template engine. Templates allow you to build HTML pages dynamically by embedding Python code within HTML markup.\n",
    "\n",
    "### HTTP Methods\n",
    " Flask supports all standard HTTP methods such as GET, POST, PUT, DELETE, etc. You can define routes that respond to specific HTTP methods.\n",
    "\n",
    "### Web Development Made Easy\n",
    " Flask simplifies web development by providing built-in development server, integrated unit testing support, and a simple yet powerful API.\n",
    "\n",
    "### Extensions\n",
    " Flask's functionality can be extended through various extensions. These extensions cover a wide range of features including form validation, database integration (e.g., SQLAlchemy), authentication (e.g., Flask-Login), and more.\n",
    "\n",
    "### Werkzeug and Jinja2\n",
    " Flask is built on top of the Werkzeug WSGI toolkit and the Jinja2 template engine. Werkzeug provides a set of utilities for handling HTTP requests and responses, while Jinja2 enables powerful and flexible template rendering.\n",
    "\n",
    "### RESTful APIs\n",
    " Flask is commonly used for building RESTful APIs due to its simplicity and flexibility. With Flask, you can easily create endpoints that respond to HTTP requests with JSON data.\n",
    "\n",
    "### Scalability\n",
    " While Flask is often considered a micro-framework, it's highly scalable. You can use Flask to build small projects as well as large, complex applications.\n"
   ]
  },
  {
   "cell_type": "markdown",
   "metadata": {},
   "source": [
    "## Create Flask Application and add some routes"
   ]
  },
  {
   "cell_type": "code",
   "execution_count": 1,
   "metadata": {},
   "outputs": [],
   "source": [
    "from flask import Flask,request\n",
    "from flask_cors import CORS # for apis\n",
    "\n",
    "server = Flask(__name__)\n",
    "CORS(server)\n",
    "\n",
    "@server.route('/',methods=['GET'])  # This is a route decorator\n",
    "def index():\n",
    "    return 'Hello, World! This is index page'\n",
    "\n",
    "@server.route('/about') # default method is GET\n",
    "def about():\n",
    "    return 'This is the about page'\n",
    "\n",
    "\n",
    "@server.route('/login', methods=['POST'])  \n",
    "def login():\n",
    "    username = request.form['username']\n",
    "    password = request.form['password']\n",
    "    # Check username and password\n",
    "    return 'Login successful'\n",
    "\n",
    "@server.route('/update', methods=['PUT'])  \n",
    "def update():\n",
    "    # Update resource\n",
    "    return 'Resource updated'\n",
    "\n",
    "@server.route('/partial-update', methods=['PATCH'])  \n",
    "def partial_update():\n",
    "    # Apply partial modifications to the resource\n",
    "    return 'Resource partially updated'\n",
    "\n",
    "@server.route('/delete', methods=['DELETE'])  \n",
    "def delete():\n",
    "    # Delete resource\n",
    "    return 'Resource deleted'\n",
    "\n",
    "if __name__ == \"__main__\":\n",
    "   server.run(host='0.0.0.0',port=5050)"
   ]
  },
  {
   "cell_type": "markdown",
   "metadata": {},
   "source": [
    "## Flask Variables and Rules"
   ]
  },
  {
   "cell_type": "code",
   "execution_count": null,
   "metadata": {},
   "outputs": [],
   "source": [
    "from flask import Flask\n",
    "\n",
    "app = Flask(__name__)\n",
    "\n",
    "@app.route('/user/<username>')\n",
    "def show_user_profile(username):\n",
    "    return 'User %s' % username\n",
    "\n",
    "@app.route('/post/<int:post_id>')\n",
    "def show_post(post_id):\n",
    "    return 'Post %d' % post_id\n",
    "\n",
    "if __name__ == '__main__':\n",
    "    app.run(debug=True)\n"
   ]
  },
  {
   "cell_type": "markdown",
   "metadata": {},
   "source": [
    "- In the example above, two routes are defined with variable rules: /user/<username> and /post/<int:post_id>.\n",
    "- In the first route, <username> is a variable rule that captures the username from the URL and passes it as a parameter to the show_user_profile() function.\n",
    "- Similarly, in the second route, <int:post_id> is a variable rule that captures an integer value from the URL and passes it as a parameter to the show_post() function.\n",
    "- Variable rules are defined by enclosing the variable name within < and > angle brackets in the route URL. You can also specify converters like int, float, or path to define the type of data expected for the variable.\n"
   ]
  },
  {
   "cell_type": "markdown",
   "metadata": {},
   "source": [
    "### Static files and Templates in Flask\n",
    "- Dynamic web applications also need static files. That’s usually where the CSS and JavaScript files are coming from.\n",
    "Just create a folder called static in our application and it will be available at /static on the application.\n",
    "- To generate URLs for static files, use the special 'static' endpoint name: \n",
    "url_for('static', filename='css/style.css')\n",
    "- In Flask, rendering templates allows developers to generate dynamic HTML pages by combining static content with dynamic data.\n",
    "- Flask utilizes the Jinja2 templating engine for this purpose. \n",
    "- Templates in Flask are HTML files containing placeholders, which are replaced with actual values when the template is rendered.\n",
    "\n",
    "### Example\n"
   ]
  },
  {
   "cell_type": "code",
   "execution_count": null,
   "metadata": {},
   "outputs": [],
   "source": [
    "# server.py\n",
    "from flask import Flask,render_template\n",
    "\n",
    "server = Flask(__name__)\n",
    "\n",
    "@server.route('/',methods=['GET']) # define route and methods\n",
    "def index():\n",
    "    # render index.html and pass name to it\n",
    "    return render_template('index.html',name='Tek Raj') \n",
    "\n",
    "\n",
    "if __name__ == \"__main__\":\n",
    "   server.run(host='0.0.0.0',port=4000) \n",
    "\n",
    "# templates/index.html\n",
    "'''\n",
    "<!doctype html>\n",
    "<title>Hello from Flask</title>\n",
    "# name passed from flask\n",
    "{% if name %}\n",
    "  <h1>Hello {{ name }}!</h1>\n",
    "{% else %}\n",
    "  <h1>Hello, World!</h1>\n",
    "{% endif %}\n",
    "'''"
   ]
  },
  {
   "cell_type": "markdown",
   "metadata": {},
   "source": [
    "### Flask Request Object\n",
    "- Accessing Form Data\n",
    "- Accessing Query Parameters (http://localhost:4000/index?page=2)\n",
    "- Here in this url page is query params\n",
    "- Accessing Request Headers (Request headers can be accessed using the request.headers attribute.)\n",
    "- Accessing JSON Data\n",
    "- Accessing Cookies\n",
    "- Accessing Uploaded File"
   ]
  },
  {
   "cell_type": "code",
   "execution_count": null,
   "metadata": {},
   "outputs": [],
   "source": [
    "from flask import Flask,request\n",
    "\n",
    "server = Flask(__name__)\n",
    "\n",
    "\n",
    "@server.route('/')\n",
    "def index():\n",
    "    # access request headers\n",
    "    auth_token = request.headers.get('Authorization')\n",
    "    # access cookies\n",
    "    username = request.cookies.get('username')\n",
    "\n",
    "# accessing form data\n",
    "@server.route('/login', methods=['POST'])\n",
    "def login():\n",
    "    username = request.form['username']\n",
    "    password = request.form['password']\n",
    "\n",
    "# Accessing Query Parameters:\n",
    "# (http://localhost:4000/index?page=2) here page is query prams\n",
    "@app.route('/search')\n",
    "def search():\n",
    "    page = request.args.get('page')\n",
    "\n",
    "# get json data \n",
    "@app.route('/json', methods=['POST'])\n",
    "def process_json():\n",
    "    data = request.json\n",
    "    # Process the JSON data\n",
    "\n",
    "@app.route('/upload', methods=['POST'])\n",
    "def upload_file():\n",
    "    file = request.files['file']\n",
    "    # Save the uploaded file to the server"
   ]
  },
  {
   "cell_type": "markdown",
   "metadata": {},
   "source": [
    "## Flask MVC Pattern\n",
    "![image](./mvc.jpg)"
   ]
  },
  {
   "cell_type": "markdown",
   "metadata": {},
   "source": [
    "## Example"
   ]
  },
  {
   "cell_type": "markdown",
   "metadata": {},
   "source": [
    "### Model"
   ]
  },
  {
   "cell_type": "code",
   "execution_count": null,
   "metadata": {},
   "outputs": [],
   "source": [
    "from flask_sqlalchemy import SQLAlchemy\n",
    "\n",
    "db = SQLAlchemy()\n",
    "\n",
    "class User(db.Model):\n",
    "    id = db.Column(db.Integer, primary_key=True)\n",
    "    username = db.Column(db.String(50), unique=True, nullable=False)\n",
    "    email = db.Column(db.String(120), unique=True, nullable=False)\n",
    "\n",
    "    def __repr__(self):\n",
    "        return f'<User {self.username}>'\n"
   ]
  },
  {
   "cell_type": "markdown",
   "metadata": {},
   "source": [
    "### View (user.html)"
   ]
  },
  {
   "cell_type": "code",
   "execution_count": null,
   "metadata": {},
   "outputs": [],
   "source": [
    "''' <!DOCTYPE html>\n",
    "<html lang=\"en\">\n",
    "<head>\n",
    "    <meta charset=\"UTF-8\">\n",
    "    <title>User Profile</title>\n",
    "</head>\n",
    "<body>\n",
    "    <h1>User Profile</h1>\n",
    "    <p>Username: {{ user.username }}</p>\n",
    "    <p>Email: {{ user.email }}</p>\n",
    "</body>\n",
    "</html> '''"
   ]
  },
  {
   "cell_type": "markdown",
   "metadata": {},
   "source": [
    "### Controller"
   ]
  },
  {
   "cell_type": "code",
   "execution_count": null,
   "metadata": {},
   "outputs": [],
   "source": [
    "from models.user import User\n",
    "class UserController:\n",
    "    def __init__(self):\n",
    "        self.user =  User()\n",
    "    \n",
    "    def get_users(self):\n",
    "        users = User.getUsers();\n",
    "        return users\n",
    "    \n",
    "    def create(self,user):\n",
    "        new_user = self.user.create(user)\n",
    "        return new_user\n",
    "    \n",
    "    def update(self,id,update_data):\n",
    "        update = self.user.update(update_data).where(id,id)\n",
    "        return update\n",
    "    \n",
    "    def delete(self,id):\n",
    "        self.user.delete(id)\n",
    "        return True\n"
   ]
  },
  {
   "cell_type": "markdown",
   "metadata": {},
   "source": [
    "### Routes"
   ]
  },
  {
   "cell_type": "code",
   "execution_count": null,
   "metadata": {},
   "outputs": [],
   "source": [
    "from flask import Flask,render_template\n",
    "from controllers.user import User\n",
    "server = Flask(__name__)\n",
    "\n",
    "user = User()\n",
    "\n",
    "@server.route('/')\n",
    "def index():\n",
    "    users = user.get_users()\n",
    "    return render_template('user.html',users)"
   ]
  }
 ],
 "metadata": {
  "kernelspec": {
   "display_name": "Python 3",
   "language": "python",
   "name": "python3"
  },
  "language_info": {
   "codemirror_mode": {
    "name": "ipython",
    "version": 3
   },
   "file_extension": ".py",
   "mimetype": "text/x-python",
   "name": "python",
   "nbconvert_exporter": "python",
   "pygments_lexer": "ipython3",
   "version": "3.10.12"
  }
 },
 "nbformat": 4,
 "nbformat_minor": 2
}
