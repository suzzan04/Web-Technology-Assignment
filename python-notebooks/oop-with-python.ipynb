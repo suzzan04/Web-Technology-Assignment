{
 "cells": [
  {
   "cell_type": "markdown",
   "metadata": {},
   "source": [
    "## Object Oriented Programming\n",
    "- Object-oriented programming (OOP) is a programming paradigm based on the concept of \"objects,\" which can contain data (attributes) and code (methods).\n",
    "- In Python, we can create classes to define objects and their behavior. "
   ]
  },
  {
   "cell_type": "markdown",
   "metadata": {},
   "source": [
    "# Create class and objects in Python"
   ]
  },
  {
   "cell_type": "markdown",
   "metadata": {},
   "source": [
    "### Create Class"
   ]
  },
  {
   "cell_type": "code",
   "execution_count": 1,
   "metadata": {},
   "outputs": [],
   "source": [
    "# Creating a Class\n",
    "class Car:\n",
    "    # Constructor method (__init__)\n",
    "    def __init__(self, make, model, year):\n",
    "        self.make = make\n",
    "        self.model = model\n",
    "        self.year = year\n",
    "\n",
    "    # Method to display car information\n",
    "    def display_info(self):\n",
    "        print(f\"Car: {self.year} {self.make} {self.model}\")"
   ]
  },
  {
   "cell_type": "markdown",
   "metadata": {},
   "source": [
    "### Creating Objects (Instances)\n",
    "- Use the class name followed by parentheses to create an object (instance) of the class.\n",
    "- Pass any required arguments to the constructor (__init__ method) if defined."
   ]
  },
  {
   "cell_type": "code",
   "execution_count": 2,
   "metadata": {},
   "outputs": [],
   "source": [
    "# Creating objects of class Car\n",
    "car1 = Car(\"Toyota\", \"Camry\", 2020)\n",
    "car2 = Car(\"Honda\", \"Accord\", 2018)"
   ]
  },
  {
   "cell_type": "markdown",
   "metadata": {},
   "source": [
    "### Accessing Attributes and Calling Methods\n",
    "Use dot notation (.) to access attributes and call methods of an object."
   ]
  },
  {
   "cell_type": "code",
   "execution_count": 3,
   "metadata": {},
   "outputs": [
    {
     "name": "stdout",
     "output_type": "stream",
     "text": [
      "Toyota\n",
      "Accord\n",
      "Car: 2020 Toyota Camry\n",
      "Car: 2018 Honda Accord\n"
     ]
    }
   ],
   "source": [
    "# Accessing attributes\n",
    "print(car1.make)   # Output: Toyota\n",
    "print(car2.model)  # Output: Accord\n",
    "\n",
    "# Calling methods\n",
    "car1.display_info()  # Output: Car: 2020 Toyota Camry\n",
    "car2.display_info()  # Output: Car: 2018 Honda Accord\n"
   ]
  },
  {
   "cell_type": "markdown",
   "metadata": {},
   "source": [
    "### Constructor (__init__) Method\n",
    "- The __init__ method is a special method used to initialize objects.\n",
    "- It is called automatically when an object of the class is created."
   ]
  },
  {
   "cell_type": "code",
   "execution_count": 4,
   "metadata": {},
   "outputs": [],
   "source": [
    "class Car:\n",
    "    # Constructor method (__init__)\n",
    "    def __init__(self, make, model, year):\n",
    "        self.make = make\n",
    "        self.model = model\n",
    "        self.year = year"
   ]
  },
  {
   "cell_type": "markdown",
   "metadata": {},
   "source": [
    "### Instance and Class Attributes\n",
    "- Instance attributes are specific to each object (instance) and are defined inside the __init__ method using self.\n",
    "- Class attributes are shared among all instances of a class and are defined directly within the class body."
   ]
  },
  {
   "cell_type": "code",
   "execution_count": 5,
   "metadata": {},
   "outputs": [],
   "source": [
    "class Car:\n",
    "    # Class attribute\n",
    "    car_count = 0\n",
    "\n",
    "    # make,model and year are the parameters that needs to\n",
    "    # passed while creating its object\n",
    "    def __init__(self, make, model, year):\n",
    "        # Instance attributes\n",
    "        self.make = make\n",
    "        self.model = model\n",
    "        self.year = year\n",
    "\n",
    "car = Car('Toyota','v8','2020')"
   ]
  },
  {
   "cell_type": "markdown",
   "metadata": {},
   "source": [
    "## Encapsulation"
   ]
  },
  {
   "cell_type": "code",
   "execution_count": 6,
   "metadata": {},
   "outputs": [],
   "source": [
    "# encapsulation\n",
    "class Person :\n",
    "    age = 50; # public\n",
    "    _address = 'Kathmandu' #protected\n",
    "    __bank_account = '4324lk-324kl' #private \n",
    "    def __init__(self): # constructor\n",
    "      pass\n",
    "    \n",
    "    def __getAccountNumber(self): #private\n",
    "        return self.__bank_account\n",
    "    \n",
    "    def _getAddress(self): #protected\n",
    "        return self._address\n",
    "    \n",
    "    def getAge(self): # pubic\n",
    "        return self.age\n",
    "\n",
    "person = Person()\n"
   ]
  },
  {
   "cell_type": "markdown",
   "metadata": {},
   "source": [
    "## Inheritance"
   ]
  },
  {
   "cell_type": "code",
   "execution_count": 7,
   "metadata": {},
   "outputs": [
    {
     "name": "stdout",
     "output_type": "stream",
     "text": [
      "Kathmandu\n"
     ]
    }
   ],
   "source": [
    "# Inheritance\n",
    "class Student(Person):\n",
    "    def __init__(self):\n",
    "        super().__init__()\n",
    "\n",
    "    def depositFee(self):\n",
    "        print (self._getAddress())\n",
    "\n",
    "    def getAge(self): # polymorphism\n",
    "        return self.age\n",
    "\n",
    "student = Student()\n",
    "student.depositFee()"
   ]
  },
  {
   "cell_type": "markdown",
   "metadata": {},
   "source": [
    "## Abstraction"
   ]
  },
  {
   "cell_type": "code",
   "execution_count": 8,
   "metadata": {},
   "outputs": [],
   "source": [
    "from abc import ABC,abstractmethod\n",
    "\n",
    "class BankAccount(ABC):\n",
    "    def __init__(self,account_number,balance):\n",
    "        self.account_number = account_number\n",
    "        self.balance = balance\n",
    "    \n",
    "\n",
    "    @abstractmethod\n",
    "    def deposit(self,amount):\n",
    "        pass\n",
    "\n",
    "    @abstractmethod\n",
    "    def withdraw(self,amount):\n",
    "        pass\n",
    "\n",
    "\n",
    "\n",
    "class SavingAccount(BankAccount):\n",
    "    def __init__(self, account_number, balance):\n",
    "        super().__init__(account_number, balance)\n",
    "\n",
    "    def deposit(self, amount):\n",
    "        return super().deposit(amount)\n",
    "    \n",
    "    def withdraw(self, amount):\n",
    "        if(amount>self.balance):\n",
    "            print('Insufficient balance')\n",
    "            return None\n",
    "        print('Amount Deposited')\n",
    " \n",
    "    \n",
    "\n"
   ]
  }
 ],
 "metadata": {
  "kernelspec": {
   "display_name": "Python 3",
   "language": "python",
   "name": "python3"
  },
  "language_info": {
   "codemirror_mode": {
    "name": "ipython",
    "version": 3
   },
   "file_extension": ".py",
   "mimetype": "text/x-python",
   "name": "python",
   "nbconvert_exporter": "python",
   "pygments_lexer": "ipython3",
   "version": "3.10.12"
  }
 },
 "nbformat": 4,
 "nbformat_minor": 2
}
